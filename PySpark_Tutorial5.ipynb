{
 "cells": [
  {
   "cell_type": "markdown",
   "id": "e0d0f53f",
   "metadata": {},
   "source": [
    "## PySpark ML Discussion in Tutorial5"
   ]
  },
  {
   "cell_type": "code",
   "execution_count": 2,
   "id": "8498886e",
   "metadata": {},
   "outputs": [
    {
     "data": {
      "text/html": [
       "\n",
       "            <div>\n",
       "                <p><b>SparkSession - in-memory</b></p>\n",
       "                \n",
       "        <div>\n",
       "            <p><b>SparkContext</b></p>\n",
       "\n",
       "            <p><a href=\"http://INBLRGVECHQFL33.AMERICAS.GLOBAL.NTTDATA.COM:4040\">Spark UI</a></p>\n",
       "\n",
       "            <dl>\n",
       "              <dt>Version</dt>\n",
       "                <dd><code>v3.3.1</code></dd>\n",
       "              <dt>Master</dt>\n",
       "                <dd><code>local[*]</code></dd>\n",
       "              <dt>AppName</dt>\n",
       "                <dd><code>PysparkML</code></dd>\n",
       "            </dl>\n",
       "        </div>\n",
       "        \n",
       "            </div>\n",
       "        "
      ],
      "text/plain": [
       "<pyspark.sql.session.SparkSession at 0x255a5e72b80>"
      ]
     },
     "execution_count": 2,
     "metadata": {},
     "output_type": "execute_result"
    }
   ],
   "source": [
    "# Create SparkSession\n",
    "from pyspark.sql import SparkSession\n",
    "spark = SparkSession.builder.appName(\"PysparkML\").getOrCreate()\n",
    "spark"
   ]
  },
  {
   "cell_type": "code",
   "execution_count": 3,
   "id": "cad2fb18",
   "metadata": {},
   "outputs": [
    {
     "name": "stdout",
     "output_type": "stream",
     "text": [
      "+------------+--------------------+-----------------+--------------+---------------+\n",
      "|Release Date|         Movie Title|Production Budget|Domestic Gross|Worldwide Gross|\n",
      "+------------+--------------------+-----------------+--------------+---------------+\n",
      "|   4/23/2019|   Avengers: Endgame|        400000000|     858373000|     2797800564|\n",
      "|   5/20/2011|Pirates of the Ca...|        379000000|     241071802|     1045713802|\n",
      "|   4/22/2015|Avengers: Age of ...|        365000000|     459005868|     1395316979|\n",
      "|  12/16/2015|Star Wars Ep. VII...|        306000000|     936662225|     2064615817|\n",
      "|   4/25/2018|Avengers: Infinit...|        300000000|     678815482|     2044540523|\n",
      "|   5/24/2007|Pirates of the Ca...|        300000000|     309420425|      960996492|\n",
      "|  11/13/2017|      Justice League|        300000000|     229024295|      655945209|\n",
      "|   10/6/2015|             Spectre|        300000000|     200074175|      879500760|\n",
      "|  12/18/2019|Star Wars: The Ri...|        275000000|     515202542|     1072848487|\n",
      "|   5/23/2018|Solo: A Star Wars...|        275000000|     213767512|      393151347|\n",
      "|    3/7/2012|         John Carter|        263700000|      73058679|      282778100|\n",
      "|   3/23/2016|Batman v Superman...|        263000000|     330360194|      872395091|\n",
      "|  12/13/2017|Star Wars Ep. VII...|        262000000|     620181382|     1331635141|\n",
      "|   7/11/2019|       The Lion King|        260000000|     543638043|     1654367425|\n",
      "|  11/24/2010|             Tangled|        260000000|     200821936|      584899819|\n",
      "|    5/4/2007|        Spider-Man 3|        258000000|     336530303|      894860230|\n",
      "|   4/22/2016|Captain America: ...|        250000000|     408084349|     1151918521|\n",
      "|   7/15/2009|Harry Potter and ...|        250000000|     302089278|      929411069|\n",
      "|  12/12/2013|The Hobbit: The D...|        250000000|     258241522|      959358436|\n",
      "|  12/10/2014|The Hobbit: The B...|        250000000|     255119788|      940389558|\n",
      "+------------+--------------------+-----------------+--------------+---------------+\n",
      "only showing top 20 rows\n",
      "\n"
     ]
    }
   ],
   "source": [
    "# Read the file from csv\n",
    "df =spark.read.csv(\"top_4000_movies_data.csv\",header=True,inferSchema=True)\n",
    "df.show()"
   ]
  },
  {
   "cell_type": "code",
   "execution_count": 4,
   "id": "6ed227a3",
   "metadata": {},
   "outputs": [
    {
     "name": "stdout",
     "output_type": "stream",
     "text": [
      "root\n",
      " |-- Release Date: string (nullable = true)\n",
      " |-- Movie Title: string (nullable = true)\n",
      " |-- Production Budget: integer (nullable = true)\n",
      " |-- Domestic Gross: integer (nullable = true)\n",
      " |-- Worldwide Gross: long (nullable = true)\n",
      "\n"
     ]
    }
   ],
   "source": [
    "df.printSchema()"
   ]
  },
  {
   "cell_type": "code",
   "execution_count": 7,
   "id": "08560211",
   "metadata": {},
   "outputs": [
    {
     "data": {
      "text/plain": [
       "['Release Date',\n",
       " 'Movie Title',\n",
       " 'Production Budget',\n",
       " 'Domestic Gross',\n",
       " 'Worldwide Gross']"
      ]
     },
     "execution_count": 7,
     "metadata": {},
     "output_type": "execute_result"
    }
   ],
   "source": [
    "df.columns"
   ]
  },
  {
   "cell_type": "code",
   "execution_count": 17,
   "id": "0fa01f26",
   "metadata": {},
   "outputs": [
    {
     "name": "stdout",
     "output_type": "stream",
     "text": [
      "+------------+--------------------+-----------------+--------------+---------------+--------------------+\n",
      "|Release Date|         Movie Title|Production Budget|Domestic Gross|Worldwide Gross|     VectorAssembler|\n",
      "+------------+--------------------+-----------------+--------------+---------------+--------------------+\n",
      "|   4/23/2019|   Avengers: Endgame|        400000000|     858373000|     2797800564|   [4.0E8,8.58373E8]|\n",
      "|   5/20/2011|Pirates of the Ca...|        379000000|     241071802|     1045713802|[3.79E8,2.4107180...|\n",
      "|   4/22/2015|Avengers: Age of ...|        365000000|     459005868|     1395316979|[3.65E8,4.5900586...|\n",
      "|  12/16/2015|Star Wars Ep. VII...|        306000000|     936662225|     2064615817|[3.06E8,9.3666222...|\n",
      "|   4/25/2018|Avengers: Infinit...|        300000000|     678815482|     2044540523|[3.0E8,6.78815482E8]|\n",
      "|   5/24/2007|Pirates of the Ca...|        300000000|     309420425|      960996492|[3.0E8,3.09420425E8]|\n",
      "|  11/13/2017|      Justice League|        300000000|     229024295|      655945209|[3.0E8,2.29024295E8]|\n",
      "|   10/6/2015|             Spectre|        300000000|     200074175|      879500760|[3.0E8,2.00074175E8]|\n",
      "|  12/18/2019|Star Wars: The Ri...|        275000000|     515202542|     1072848487|[2.75E8,5.1520254...|\n",
      "|   5/23/2018|Solo: A Star Wars...|        275000000|     213767512|      393151347|[2.75E8,2.1376751...|\n",
      "|    3/7/2012|         John Carter|        263700000|      73058679|      282778100|[2.637E8,7.305867...|\n",
      "|   3/23/2016|Batman v Superman...|        263000000|     330360194|      872395091|[2.63E8,3.3036019...|\n",
      "|  12/13/2017|Star Wars Ep. VII...|        262000000|     620181382|     1331635141|[2.62E8,6.2018138...|\n",
      "|   7/11/2019|       The Lion King|        260000000|     543638043|     1654367425|[2.6E8,5.43638043E8]|\n",
      "|  11/24/2010|             Tangled|        260000000|     200821936|      584899819|[2.6E8,2.00821936E8]|\n",
      "|    5/4/2007|        Spider-Man 3|        258000000|     336530303|      894860230|[2.58E8,3.3653030...|\n",
      "|   4/22/2016|Captain America: ...|        250000000|     408084349|     1151918521|[2.5E8,4.08084349E8]|\n",
      "|   7/15/2009|Harry Potter and ...|        250000000|     302089278|      929411069|[2.5E8,3.02089278E8]|\n",
      "|  12/12/2013|The Hobbit: The D...|        250000000|     258241522|      959358436|[2.5E8,2.58241522E8]|\n",
      "|  12/10/2014|The Hobbit: The B...|        250000000|     255119788|      940389558|[2.5E8,2.55119788E8]|\n",
      "+------------+--------------------+-----------------+--------------+---------------+--------------------+\n",
      "only showing top 20 rows\n",
      "\n"
     ]
    }
   ],
   "source": [
    "# \"VectorAssembler\" is a transformer that combines a given list of columns into a single vector column.\n",
    "from pyspark.ml.feature import VectorAssembler\n",
    "feature_assembler = VectorAssembler(inputCols= [\"Production Budget\",\"Domestic Gross\"],outputCol=\"VectorAssembler\",handleInvalid=\"error\")\n",
    "output=feature_assembler.transform(df)\n",
    "output.show()"
   ]
  },
  {
   "cell_type": "code",
   "execution_count": 21,
   "id": "f7b09dd9",
   "metadata": {},
   "outputs": [
    {
     "data": {
      "text/plain": [
       "['Release Date',\n",
       " 'Movie Title',\n",
       " 'Production Budget',\n",
       " 'Domestic Gross',\n",
       " 'Worldwide Gross',\n",
       " 'VectorAssembler']"
      ]
     },
     "execution_count": 21,
     "metadata": {},
     "output_type": "execute_result"
    }
   ],
   "source": [
    "output.columns"
   ]
  },
  {
   "cell_type": "code",
   "execution_count": 26,
   "id": "95e45fb3",
   "metadata": {},
   "outputs": [
    {
     "name": "stdout",
     "output_type": "stream",
     "text": [
      "+-----------------+--------------------+\n",
      "|Production Budget|     VectorAssembler|\n",
      "+-----------------+--------------------+\n",
      "|        400000000|   [4.0E8,8.58373E8]|\n",
      "|        379000000|[3.79E8,2.4107180...|\n",
      "|        365000000|[3.65E8,4.5900586...|\n",
      "|        306000000|[3.06E8,9.3666222...|\n",
      "|        300000000|[3.0E8,6.78815482E8]|\n",
      "|        300000000|[3.0E8,3.09420425E8]|\n",
      "|        300000000|[3.0E8,2.29024295E8]|\n",
      "|        300000000|[3.0E8,2.00074175E8]|\n",
      "|        275000000|[2.75E8,5.1520254...|\n",
      "|        275000000|[2.75E8,2.1376751...|\n",
      "|        263700000|[2.637E8,7.305867...|\n",
      "|        263000000|[2.63E8,3.3036019...|\n",
      "|        262000000|[2.62E8,6.2018138...|\n",
      "|        260000000|[2.6E8,5.43638043E8]|\n",
      "|        260000000|[2.6E8,2.00821936E8]|\n",
      "|        258000000|[2.58E8,3.3653030...|\n",
      "|        250000000|[2.5E8,4.08084349E8]|\n",
      "|        250000000|[2.5E8,3.02089278E8]|\n",
      "|        250000000|[2.5E8,2.58241522E8]|\n",
      "|        250000000|[2.5E8,2.55119788E8]|\n",
      "+-----------------+--------------------+\n",
      "only showing top 20 rows\n",
      "\n"
     ]
    }
   ],
   "source": [
    "finalized_data=output.select(\"Production Budget\",\"VectorAssembler\")\n",
    "finalized_data.show()"
   ]
  },
  {
   "cell_type": "code",
   "execution_count": 27,
   "id": "ede153a3",
   "metadata": {},
   "outputs": [],
   "source": [
    "#Linear Regression\n",
    "from pyspark.ml.regression import LinearRegression\n",
    "\n",
    "#train, test spilt\n",
    "train_data,test_data= finalized_data.randomSplit([0.75,0.25])\n",
    "\n",
    "#Train the linear regression model\n",
    "regression = LinearRegression(featuresCol=\"VectorAssembler\",labelCol =\"Production Budget\" )\n",
    "regression = regression.fit(train_data)"
   ]
  },
  {
   "cell_type": "code",
   "execution_count": 28,
   "id": "c1a1f799",
   "metadata": {},
   "outputs": [
    {
     "data": {
      "text/plain": [
       "DenseVector([1.0, 0.0])"
      ]
     },
     "execution_count": 28,
     "metadata": {},
     "output_type": "execute_result"
    }
   ],
   "source": [
    "# Coefficients\n",
    "regression.coefficients"
   ]
  },
  {
   "cell_type": "code",
   "execution_count": 29,
   "id": "8e4bc66a",
   "metadata": {},
   "outputs": [
    {
     "data": {
      "text/plain": [
       "0.0"
      ]
     },
     "execution_count": 29,
     "metadata": {},
     "output_type": "execute_result"
    }
   ],
   "source": [
    "#Intercept\n",
    "regression.intercept"
   ]
  },
  {
   "cell_type": "code",
   "execution_count": 30,
   "id": "3278ae9b",
   "metadata": {},
   "outputs": [],
   "source": [
    "#Prediction\n",
    "pred_results = regression.evaluate(test_data)"
   ]
  },
  {
   "cell_type": "code",
   "execution_count": 36,
   "id": "f8c07d10",
   "metadata": {},
   "outputs": [
    {
     "name": "stdout",
     "output_type": "stream",
     "text": [
      "+-----------------+--------------------+----------+\n",
      "|Production Budget|     VectorAssembler|prediction|\n",
      "+-----------------+--------------------+----------+\n",
      "|          9500000|[9500000.0,115155.0]| 9500000.0|\n",
      "|          9500000|[9500000.0,5.7176...| 9500000.0|\n",
      "|          9800000|[9800000.0,1.6044...| 9800000.0|\n",
      "|         10000000|         [1.0E7,0.0]|     1.0E7|\n",
      "|         10000000|         [1.0E7,0.0]|     1.0E7|\n",
      "|         10000000|         [1.0E7,0.0]|     1.0E7|\n",
      "|         10000000|         [1.0E7,0.0]|     1.0E7|\n",
      "|         10000000|      [1.0E7,6422.0]|     1.0E7|\n",
      "|         10000000|      [1.0E7,9069.0]|     1.0E7|\n",
      "|         10000000|     [1.0E7,17472.0]|     1.0E7|\n",
      "|         10000000|    [1.0E7,137221.0]|     1.0E7|\n",
      "|         10000000|    [1.0E7,221805.0]|     1.0E7|\n",
      "|         10000000|   [1.0E7,1562800.0]|     1.0E7|\n",
      "|         10000000|   [1.0E7,1799322.0]|     1.0E7|\n",
      "|         10000000|   [1.0E7,2000000.0]|     1.0E7|\n",
      "|         10000000|   [1.0E7,2185266.0]|     1.0E7|\n",
      "|         10000000|   [1.0E7,4073448.0]|     1.0E7|\n",
      "|         10000000|   [1.0E7,4269426.0]|     1.0E7|\n",
      "|         10000000|   [1.0E7,5005465.0]|     1.0E7|\n",
      "|         10000000|   [1.0E7,5490423.0]|     1.0E7|\n",
      "+-----------------+--------------------+----------+\n",
      "only showing top 20 rows\n",
      "\n"
     ]
    }
   ],
   "source": [
    "pred_results.predictions.show()"
   ]
  },
  {
   "cell_type": "code",
   "execution_count": 37,
   "id": "67de7a19",
   "metadata": {},
   "outputs": [
    {
     "data": {
      "text/plain": [
       "(0.0, 0.0)"
      ]
     },
     "execution_count": 37,
     "metadata": {},
     "output_type": "execute_result"
    }
   ],
   "source": [
    "pred_results.meanAbsoluteError,pred_results.meanSquaredError"
   ]
  },
  {
   "cell_type": "code",
   "execution_count": null,
   "id": "3a4c0f11",
   "metadata": {},
   "outputs": [],
   "source": []
  }
 ],
 "metadata": {
  "kernelspec": {
   "display_name": "Python 3 (ipykernel)",
   "language": "python",
   "name": "python3"
  },
  "language_info": {
   "codemirror_mode": {
    "name": "ipython",
    "version": 3
   },
   "file_extension": ".py",
   "mimetype": "text/x-python",
   "name": "python",
   "nbconvert_exporter": "python",
   "pygments_lexer": "ipython3",
   "version": "3.9.12"
  }
 },
 "nbformat": 4,
 "nbformat_minor": 5
}
