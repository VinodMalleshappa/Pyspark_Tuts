{
 "cells": [
  {
   "cell_type": "markdown",
   "id": "f13a1146",
   "metadata": {},
   "source": [
    "# Spark & PySpark\n",
    "   Spark was designed for fast, interactive computation that runs in memory, enabling machine learning to run quickly.\n",
    "         \n",
    "   PySpark is the Python API for Apache Spark, an open source, distributed computing framework and set of libraries for  \n",
    "   real-time, large-scale data processing.\n",
    "    \n",
    "   Fast processing: The PySpark framework processes large amounts of data much quicker than other conventional \n",
    "   frameworks.  Python is well-suited for dealing with RDDs since it is dynamically typed.\n",
    "    \n",
    "   "
   ]
  },
  {
   "cell_type": "markdown",
   "id": "d045566e",
   "metadata": {},
   "source": [
    "## In this Notebook we have to do some basic thing with PySpark like read the file\n",
    "\n",
    "Reference link https://github.com/Sarthak-1408/PySpark-Tutorial/blob/main/Tutorial1.ipynb"
   ]
  },
  {
   "cell_type": "code",
   "execution_count": 5,
   "id": "91a06970",
   "metadata": {},
   "outputs": [],
   "source": [
    "# import dependencies\n",
    "#pip install --trusted-host pypi.org --trusted-host pypi.python.org --trusted-host files.pythonhosted.org pyspark in anaconda cmd\n",
    "\n",
    "import pyspark\n",
    "import pandas as pd"
   ]
  },
  {
   "cell_type": "code",
   "execution_count": 7,
   "id": "b2e0276c",
   "metadata": {},
   "outputs": [
    {
     "data": {
      "text/html": [
       "\n",
       "            <div>\n",
       "                <p><b>SparkSession - in-memory</b></p>\n",
       "                \n",
       "        <div>\n",
       "            <p><b>SparkContext</b></p>\n",
       "\n",
       "            <p><a href=\"http://INBLRGVECHQFL33.AMERICAS.GLOBAL.NTTDATA.COM:4040\">Spark UI</a></p>\n",
       "\n",
       "            <dl>\n",
       "              <dt>Version</dt>\n",
       "                <dd><code>v3.3.1</code></dd>\n",
       "              <dt>Master</dt>\n",
       "                <dd><code>local[*]</code></dd>\n",
       "              <dt>AppName</dt>\n",
       "                <dd><code>Practise</code></dd>\n",
       "            </dl>\n",
       "        </div>\n",
       "        \n",
       "            </div>\n",
       "        "
      ],
      "text/plain": [
       "<pyspark.sql.session.SparkSession at 0x19c87000b20>"
      ]
     },
     "execution_count": 7,
     "metadata": {},
     "output_type": "execute_result"
    }
   ],
   "source": [
    "# Before using Pyspark we have to create the spark session\n",
    "\n",
    "from pyspark.sql import SparkSession\n",
    "spark = SparkSession.builder.appName(\"Practise\").getOrCreate()\n",
    "        #SparkSession.builder.appName(\"Practise\").getOrCreate()\n",
    "spark"
   ]
  },
  {
   "cell_type": "code",
   "execution_count": 9,
   "id": "8655fcf2",
   "metadata": {},
   "outputs": [],
   "source": [
    "# Read the file using Pyspark\n",
    "df = spark.read.csv(\"top_4000_movies_data.csv\")"
   ]
  },
  {
   "cell_type": "code",
   "execution_count": 10,
   "id": "2f82fc62",
   "metadata": {},
   "outputs": [
    {
     "data": {
      "text/plain": [
       "DataFrame[_c0: string, _c1: string, _c2: string, _c3: string, _c4: string]"
      ]
     },
     "execution_count": 10,
     "metadata": {},
     "output_type": "execute_result"
    }
   ],
   "source": [
    "df"
   ]
  },
  {
   "cell_type": "code",
   "execution_count": 11,
   "id": "c87a3432",
   "metadata": {},
   "outputs": [
    {
     "name": "stdout",
     "output_type": "stream",
     "text": [
      "+------------+--------------------+-----------------+--------------+---------------+\n",
      "|         _c0|                 _c1|              _c2|           _c3|            _c4|\n",
      "+------------+--------------------+-----------------+--------------+---------------+\n",
      "|Release Date|         Movie Title|Production Budget|Domestic Gross|Worldwide Gross|\n",
      "|   4/23/2019|   Avengers: Endgame|        400000000|     858373000|     2797800564|\n",
      "|   5/20/2011|Pirates of the Ca...|        379000000|     241071802|     1045713802|\n",
      "|   4/22/2015|Avengers: Age of ...|        365000000|     459005868|     1395316979|\n",
      "|  12/16/2015|Star Wars Ep. VII...|        306000000|     936662225|     2064615817|\n",
      "|   4/25/2018|Avengers: Infinit...|        300000000|     678815482|     2044540523|\n",
      "|   5/24/2007|Pirates of the Ca...|        300000000|     309420425|      960996492|\n",
      "|  11/13/2017|      Justice League|        300000000|     229024295|      655945209|\n",
      "|   10/6/2015|             Spectre|        300000000|     200074175|      879500760|\n",
      "|  12/18/2019|Star Wars: The Ri...|        275000000|     515202542|     1072848487|\n",
      "|   5/23/2018|Solo: A Star Wars...|        275000000|     213767512|      393151347|\n",
      "|    3/7/2012|         John Carter|        263700000|      73058679|      282778100|\n",
      "|   3/23/2016|Batman v Superman...|        263000000|     330360194|      872395091|\n",
      "|  12/13/2017|Star Wars Ep. VII...|        262000000|     620181382|     1331635141|\n",
      "|   7/11/2019|       The Lion King|        260000000|     543638043|     1654367425|\n",
      "|  11/24/2010|             Tangled|        260000000|     200821936|      584899819|\n",
      "|    5/4/2007|        Spider-Man 3|        258000000|     336530303|      894860230|\n",
      "|   4/22/2016|Captain America: ...|        250000000|     408084349|     1151918521|\n",
      "|   7/15/2009|Harry Potter and ...|        250000000|     302089278|      929411069|\n",
      "|  12/12/2013|The Hobbit: The D...|        250000000|     258241522|      959358436|\n",
      "+------------+--------------------+-----------------+--------------+---------------+\n",
      "only showing top 20 rows\n",
      "\n"
     ]
    }
   ],
   "source": [
    "df.show()"
   ]
  },
  {
   "cell_type": "code",
   "execution_count": 12,
   "id": "410b6513",
   "metadata": {},
   "outputs": [
    {
     "data": {
      "text/plain": [
       "DataFrame[Release Date: string, Movie Title: string, Production Budget: string, Domestic Gross: string, Worldwide Gross: string]"
      ]
     },
     "execution_count": 12,
     "metadata": {},
     "output_type": "execute_result"
    }
   ],
   "source": [
    "# Now consider the column name as a first value\n",
    "df1 =spark.read.option('header','True').csv(\"top_4000_movies_data.csv\")\n",
    "df1"
   ]
  },
  {
   "cell_type": "code",
   "execution_count": 13,
   "id": "4dfb8f48",
   "metadata": {},
   "outputs": [
    {
     "data": {
      "text/plain": [
       "pyspark.sql.dataframe.DataFrame"
      ]
     },
     "execution_count": 13,
     "metadata": {},
     "output_type": "execute_result"
    }
   ],
   "source": [
    "type(df1)"
   ]
  },
  {
   "cell_type": "code",
   "execution_count": 14,
   "id": "d667681c",
   "metadata": {},
   "outputs": [
    {
     "data": {
      "text/plain": [
       "[Row(Release Date='4/23/2019', Movie Title='Avengers: Endgame', Production Budget='400000000', Domestic Gross='858373000', Worldwide Gross='2797800564'),\n",
       " Row(Release Date='5/20/2011', Movie Title='Pirates of the Caribbean: On Stranger Tides', Production Budget='379000000', Domestic Gross='241071802', Worldwide Gross='1045713802'),\n",
       " Row(Release Date='4/22/2015', Movie Title='Avengers: Age of Ultron', Production Budget='365000000', Domestic Gross='459005868', Worldwide Gross='1395316979'),\n",
       " Row(Release Date='12/16/2015', Movie Title='Star Wars Ep. VII: The Force Awakens', Production Budget='306000000', Domestic Gross='936662225', Worldwide Gross='2064615817')]"
      ]
     },
     "execution_count": 14,
     "metadata": {},
     "output_type": "execute_result"
    }
   ],
   "source": [
    "df1.head(4)"
   ]
  },
  {
   "cell_type": "code",
   "execution_count": 16,
   "id": "89ca382f",
   "metadata": {},
   "outputs": [
    {
     "name": "stdout",
     "output_type": "stream",
     "text": [
      "root\n",
      " |-- Release Date: string (nullable = true)\n",
      " |-- Movie Title: string (nullable = true)\n",
      " |-- Production Budget: string (nullable = true)\n",
      " |-- Domestic Gross: string (nullable = true)\n",
      " |-- Worldwide Gross: string (nullable = true)\n",
      "\n"
     ]
    }
   ],
   "source": [
    "df1.printSchema()"
   ]
  },
  {
   "cell_type": "code",
   "execution_count": 25,
   "id": "7c2913cd",
   "metadata": {},
   "outputs": [
    {
     "name": "stdout",
     "output_type": "stream",
     "text": [
      "+------------+--------------------+-----------------+--------------+---------------+\n",
      "|Release Date|         Movie Title|Production Budget|Domestic Gross|Worldwide Gross|\n",
      "+------------+--------------------+-----------------+--------------+---------------+\n",
      "|   4/23/2019|   Avengers: Endgame|        400000000|     858373000|     2797800564|\n",
      "|   5/20/2011|Pirates of the Ca...|        379000000|     241071802|     1045713802|\n",
      "|   4/22/2015|Avengers: Age of ...|        365000000|     459005868|     1395316979|\n",
      "|  12/16/2015|Star Wars Ep. VII...|        306000000|     936662225|     2064615817|\n",
      "|   4/25/2018|Avengers: Infinit...|        300000000|     678815482|     2044540523|\n",
      "|   5/24/2007|Pirates of the Ca...|        300000000|     309420425|      960996492|\n",
      "|  11/13/2017|      Justice League|        300000000|     229024295|      655945209|\n",
      "|   10/6/2015|             Spectre|        300000000|     200074175|      879500760|\n",
      "|  12/18/2019|Star Wars: The Ri...|        275000000|     515202542|     1072848487|\n",
      "|   5/23/2018|Solo: A Star Wars...|        275000000|     213767512|      393151347|\n",
      "|    3/7/2012|         John Carter|        263700000|      73058679|      282778100|\n",
      "|   3/23/2016|Batman v Superman...|        263000000|     330360194|      872395091|\n",
      "|  12/13/2017|Star Wars Ep. VII...|        262000000|     620181382|     1331635141|\n",
      "|   7/11/2019|       The Lion King|        260000000|     543638043|     1654367425|\n",
      "|  11/24/2010|             Tangled|        260000000|     200821936|      584899819|\n",
      "|    5/4/2007|        Spider-Man 3|        258000000|     336530303|      894860230|\n",
      "|   4/22/2016|Captain America: ...|        250000000|     408084349|     1151918521|\n",
      "|   7/15/2009|Harry Potter and ...|        250000000|     302089278|      929411069|\n",
      "|  12/12/2013|The Hobbit: The D...|        250000000|     258241522|      959358436|\n",
      "|  12/10/2014|The Hobbit: The B...|        250000000|     255119788|      940389558|\n",
      "+------------+--------------------+-----------------+--------------+---------------+\n",
      "only showing top 20 rows\n",
      "\n"
     ]
    }
   ],
   "source": [
    "df1.show()"
   ]
  },
  {
   "cell_type": "code",
   "execution_count": null,
   "id": "640e86f5",
   "metadata": {},
   "outputs": [],
   "source": []
  },
  {
   "cell_type": "code",
   "execution_count": null,
   "id": "20ef20db",
   "metadata": {},
   "outputs": [],
   "source": []
  }
 ],
 "metadata": {
  "kernelspec": {
   "display_name": "Python 3 (ipykernel)",
   "language": "python",
   "name": "python3"
  },
  "language_info": {
   "codemirror_mode": {
    "name": "ipython",
    "version": 3
   },
   "file_extension": ".py",
   "mimetype": "text/x-python",
   "name": "python",
   "nbconvert_exporter": "python",
   "pygments_lexer": "ipython3",
   "version": "3.9.12"
  }
 },
 "nbformat": 4,
 "nbformat_minor": 5
}
