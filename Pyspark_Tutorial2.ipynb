{
 "cells": [
  {
   "cell_type": "markdown",
   "id": "67aab512",
   "metadata": {},
   "source": [
    "# PySpark_Tutorial2\n",
    "\n",
    "We will learn on the below topics\n",
    "\n",
    "* PySpark DataFrame\n",
    "* Reading the Dataset\n",
    "* Verifiying the Datatypes of the Column(schema)\n",
    "* Selecting Columns and Indexing\n",
    "* Check Discribe option similer to pandas\n",
    "* Adding columns\n",
    "* Dropping columns\n",
    "* Renaming the columns\n",
    "* Droping Rows\n",
    "* Various parameters in Dropping Functionalities \n",
    "* Handling the missing values by Mean,Median,Model\n"
   ]
  },
  {
   "cell_type": "code",
   "execution_count": 1,
   "id": "a8c988cf",
   "metadata": {},
   "outputs": [
    {
     "data": {
      "text/html": [
       "\n",
       "            <div>\n",
       "                <p><b>SparkSession - in-memory</b></p>\n",
       "                \n",
       "        <div>\n",
       "            <p><b>SparkContext</b></p>\n",
       "\n",
       "            <p><a href=\"http://INBLRGVECHQFL33.AMERICAS.GLOBAL.NTTDATA.COM:4040\">Spark UI</a></p>\n",
       "\n",
       "            <dl>\n",
       "              <dt>Version</dt>\n",
       "                <dd><code>v3.3.1</code></dd>\n",
       "              <dt>Master</dt>\n",
       "                <dd><code>local[*]</code></dd>\n",
       "              <dt>AppName</dt>\n",
       "                <dd><code>Dataframe</code></dd>\n",
       "            </dl>\n",
       "        </div>\n",
       "        \n",
       "            </div>\n",
       "        "
      ],
      "text/plain": [
       "<pyspark.sql.session.SparkSession at 0x1f199d9ed00>"
      ]
     },
     "execution_count": 1,
     "metadata": {},
     "output_type": "execute_result"
    }
   ],
   "source": [
    "# Build the Pyspark session\n",
    "from pyspark.sql import SparkSession\n",
    "spark = SparkSession.builder.appName(\"Dataframe\").getOrCreate() #create any appName for my purpose i use create Dataframe\n",
    "spark"
   ]
  },
  {
   "cell_type": "code",
   "execution_count": 2,
   "id": "f8311aaf",
   "metadata": {},
   "outputs": [
    {
     "data": {
      "text/plain": [
       "DataFrame[Release Date: string, Movie Title: string, Production Budget: string, Domestic Gross: string, Worldwide Gross: string]"
      ]
     },
     "execution_count": 2,
     "metadata": {},
     "output_type": "execute_result"
    }
   ],
   "source": [
    "#Read the Dataframe from csv file\n",
    "df = spark.read.option('header','True').csv(\"top_4000_movies_data.csv\")\n",
    "df"
   ]
  },
  {
   "cell_type": "code",
   "execution_count": 3,
   "id": "94145cbc",
   "metadata": {},
   "outputs": [
    {
     "name": "stdout",
     "output_type": "stream",
     "text": [
      "root\n",
      " |-- Release Date: string (nullable = true)\n",
      " |-- Movie Title: string (nullable = true)\n",
      " |-- Production Budget: string (nullable = true)\n",
      " |-- Domestic Gross: string (nullable = true)\n",
      " |-- Worldwide Gross: string (nullable = true)\n",
      "\n"
     ]
    }
   ],
   "source": [
    "#Checking the Schema\n",
    "df.printSchema()"
   ]
  },
  {
   "cell_type": "markdown",
   "id": "dc1e6b07",
   "metadata": {},
   "source": [
    "As you can see that ByDefault it will see all the columns as String so for making better understanding we use , inferSchema = True."
   ]
  },
  {
   "cell_type": "code",
   "execution_count": 4,
   "id": "33cb91f4",
   "metadata": {},
   "outputs": [
    {
     "data": {
      "text/plain": [
       "DataFrame[Release Date: string, Movie Title: string, Production Budget: int, Domestic Gross: int, Worldwide Gross: bigint]"
      ]
     },
     "execution_count": 4,
     "metadata": {},
     "output_type": "execute_result"
    }
   ],
   "source": [
    "df = spark.read.option(\"header\",\"True\").csv(\"top_4000_movies_data.csv\",inferSchema=True)\n",
    "df"
   ]
  },
  {
   "cell_type": "code",
   "execution_count": 5,
   "id": "b5ee3942",
   "metadata": {},
   "outputs": [
    {
     "name": "stdout",
     "output_type": "stream",
     "text": [
      "root\n",
      " |-- Release Date: string (nullable = true)\n",
      " |-- Movie Title: string (nullable = true)\n",
      " |-- Production Budget: integer (nullable = true)\n",
      " |-- Domestic Gross: integer (nullable = true)\n",
      " |-- Worldwide Gross: long (nullable = true)\n",
      "\n"
     ]
    }
   ],
   "source": [
    "df.printSchema()"
   ]
  },
  {
   "cell_type": "markdown",
   "id": "d59cf096",
   "metadata": {},
   "source": [
    "nullable means column has Null Values"
   ]
  },
  {
   "cell_type": "code",
   "execution_count": 28,
   "id": "99ef6678",
   "metadata": {},
   "outputs": [
    {
     "name": "stdout",
     "output_type": "stream",
     "text": [
      "+------------+--------------------+-----------------+--------------+---------------+\n",
      "|Release Date|         Movie Title|Production Budget|Domestic Gross|Worldwide Gross|\n",
      "+------------+--------------------+-----------------+--------------+---------------+\n",
      "|   4/23/2019|   Avengers: Endgame|        400000000|     858373000|     2797800564|\n",
      "|   5/20/2011|Pirates of the Ca...|        379000000|     241071802|     1045713802|\n",
      "|   4/22/2015|Avengers: Age of ...|        365000000|     459005868|     1395316979|\n",
      "|  12/16/2015|Star Wars Ep. VII...|        306000000|     936662225|     2064615817|\n",
      "|   4/25/2018|Avengers: Infinit...|        300000000|     678815482|     2044540523|\n",
      "|   5/24/2007|Pirates of the Ca...|        300000000|     309420425|      960996492|\n",
      "|  11/13/2017|      Justice League|        300000000|     229024295|      655945209|\n",
      "|   10/6/2015|             Spectre|        300000000|     200074175|      879500760|\n",
      "|  12/18/2019|Star Wars: The Ri...|        275000000|     515202542|     1072848487|\n",
      "|   5/23/2018|Solo: A Star Wars...|        275000000|     213767512|      393151347|\n",
      "|    3/7/2012|         John Carter|        263700000|      73058679|      282778100|\n",
      "|   3/23/2016|Batman v Superman...|        263000000|     330360194|      872395091|\n",
      "|  12/13/2017|Star Wars Ep. VII...|        262000000|     620181382|     1331635141|\n",
      "|   7/11/2019|       The Lion King|        260000000|     543638043|     1654367425|\n",
      "|  11/24/2010|             Tangled|        260000000|     200821936|      584899819|\n",
      "|    5/4/2007|        Spider-Man 3|        258000000|     336530303|      894860230|\n",
      "|   4/22/2016|Captain America: ...|        250000000|     408084349|     1151918521|\n",
      "|   7/15/2009|Harry Potter and ...|        250000000|     302089278|      929411069|\n",
      "|  12/12/2013|The Hobbit: The D...|        250000000|     258241522|      959358436|\n",
      "|  12/10/2014|The Hobbit: The B...|        250000000|     255119788|      940389558|\n",
      "+------------+--------------------+-----------------+--------------+---------------+\n",
      "only showing top 20 rows\n",
      "\n"
     ]
    }
   ],
   "source": [
    "# One more-way for reading dataset\n",
    "df1 = spark.read.csv(\"top_4000_movies_data.csv\",header=True,inferSchema=True)\n",
    "df1.show()"
   ]
  },
  {
   "cell_type": "code",
   "execution_count": 29,
   "id": "09940590",
   "metadata": {},
   "outputs": [
    {
     "name": "stdout",
     "output_type": "stream",
     "text": [
      "root\n",
      " |-- Release Date: string (nullable = true)\n",
      " |-- Movie Title: string (nullable = true)\n",
      " |-- Production Budget: integer (nullable = true)\n",
      " |-- Domestic Gross: integer (nullable = true)\n",
      " |-- Worldwide Gross: long (nullable = true)\n",
      "\n"
     ]
    }
   ],
   "source": [
    "df1.printSchema()"
   ]
  },
  {
   "cell_type": "code",
   "execution_count": 30,
   "id": "c8b337fc",
   "metadata": {},
   "outputs": [
    {
     "data": {
      "text/plain": [
       "pyspark.sql.dataframe.DataFrame"
      ]
     },
     "execution_count": 30,
     "metadata": {},
     "output_type": "execute_result"
    }
   ],
   "source": [
    "type(df1)  # Type is DataFrame that is DataStructure"
   ]
  },
  {
   "cell_type": "code",
   "execution_count": 31,
   "id": "4056697a",
   "metadata": {},
   "outputs": [
    {
     "data": {
      "text/plain": [
       "['Release Date',\n",
       " 'Movie Title',\n",
       " 'Production Budget',\n",
       " 'Domestic Gross',\n",
       " 'Worldwide Gross']"
      ]
     },
     "execution_count": 31,
     "metadata": {},
     "output_type": "execute_result"
    }
   ],
   "source": [
    "# Get the Column name\n",
    "df1.columns"
   ]
  },
  {
   "cell_type": "code",
   "execution_count": 32,
   "id": "772c6223",
   "metadata": {},
   "outputs": [
    {
     "data": {
      "text/plain": [
       "[Row(Release Date='4/23/2019', Movie Title='Avengers: Endgame', Production Budget=400000000, Domestic Gross=858373000, Worldwide Gross=2797800564),\n",
       " Row(Release Date='5/20/2011', Movie Title='Pirates of the Caribbean: On Stranger Tides', Production Budget=379000000, Domestic Gross=241071802, Worldwide Gross=1045713802),\n",
       " Row(Release Date='4/22/2015', Movie Title='Avengers: Age of Ultron', Production Budget=365000000, Domestic Gross=459005868, Worldwide Gross=1395316979),\n",
       " Row(Release Date='12/16/2015', Movie Title='Star Wars Ep. VII: The Force Awakens', Production Budget=306000000, Domestic Gross=936662225, Worldwide Gross=2064615817),\n",
       " Row(Release Date='4/25/2018', Movie Title='Avengers: Infinity War', Production Budget=300000000, Domestic Gross=678815482, Worldwide Gross=2044540523)]"
      ]
     },
     "execution_count": 32,
     "metadata": {},
     "output_type": "execute_result"
    }
   ],
   "source": [
    " # Get any number of rows , ex:- want 5 records\n",
    "df1.head(5)"
   ]
  },
  {
   "cell_type": "code",
   "execution_count": 33,
   "id": "c911e12c",
   "metadata": {},
   "outputs": [
    {
     "name": "stdout",
     "output_type": "stream",
     "text": [
      "+--------------------+\n",
      "|         Movie Title|\n",
      "+--------------------+\n",
      "|   Avengers: Endgame|\n",
      "|Pirates of the Ca...|\n",
      "|Avengers: Age of ...|\n",
      "|Star Wars Ep. VII...|\n",
      "|Avengers: Infinit...|\n",
      "|Pirates of the Ca...|\n",
      "|      Justice League|\n",
      "|             Spectre|\n",
      "|Star Wars: The Ri...|\n",
      "|Solo: A Star Wars...|\n",
      "|         John Carter|\n",
      "|Batman v Superman...|\n",
      "|Star Wars Ep. VII...|\n",
      "|       The Lion King|\n",
      "|             Tangled|\n",
      "|        Spider-Man 3|\n",
      "|Captain America: ...|\n",
      "|Harry Potter and ...|\n",
      "|The Hobbit: The D...|\n",
      "|The Hobbit: The B...|\n",
      "+--------------------+\n",
      "only showing top 20 rows\n",
      "\n",
      "+------------+-----------------+\n",
      "|Release Date|Production Budget|\n",
      "+------------+-----------------+\n",
      "|   4/23/2019|        400000000|\n",
      "|   5/20/2011|        379000000|\n",
      "|   4/22/2015|        365000000|\n",
      "|  12/16/2015|        306000000|\n",
      "|   4/25/2018|        300000000|\n",
      "|   5/24/2007|        300000000|\n",
      "|  11/13/2017|        300000000|\n",
      "|   10/6/2015|        300000000|\n",
      "|  12/18/2019|        275000000|\n",
      "|   5/23/2018|        275000000|\n",
      "|    3/7/2012|        263700000|\n",
      "|   3/23/2016|        263000000|\n",
      "|  12/13/2017|        262000000|\n",
      "|   7/11/2019|        260000000|\n",
      "|  11/24/2010|        260000000|\n",
      "|    5/4/2007|        258000000|\n",
      "|   4/22/2016|        250000000|\n",
      "|   7/15/2009|        250000000|\n",
      "|  12/12/2013|        250000000|\n",
      "|  12/10/2014|        250000000|\n",
      "+------------+-----------------+\n",
      "only showing top 20 rows\n",
      "\n",
      "+--------------------+------------+-----------------+\n",
      "|         Movie Title|Release Date|Production Budget|\n",
      "+--------------------+------------+-----------------+\n",
      "|   Avengers: Endgame|   4/23/2019|        400000000|\n",
      "|Pirates of the Ca...|   5/20/2011|        379000000|\n",
      "|Avengers: Age of ...|   4/22/2015|        365000000|\n",
      "|Star Wars Ep. VII...|  12/16/2015|        306000000|\n",
      "|Avengers: Infinit...|   4/25/2018|        300000000|\n",
      "|Pirates of the Ca...|   5/24/2007|        300000000|\n",
      "|      Justice League|  11/13/2017|        300000000|\n",
      "|             Spectre|   10/6/2015|        300000000|\n",
      "|Star Wars: The Ri...|  12/18/2019|        275000000|\n",
      "|Solo: A Star Wars...|   5/23/2018|        275000000|\n",
      "|         John Carter|    3/7/2012|        263700000|\n",
      "|Batman v Superman...|   3/23/2016|        263000000|\n",
      "|Star Wars Ep. VII...|  12/13/2017|        262000000|\n",
      "|       The Lion King|   7/11/2019|        260000000|\n",
      "|             Tangled|  11/24/2010|        260000000|\n",
      "|        Spider-Man 3|    5/4/2007|        258000000|\n",
      "|Captain America: ...|   4/22/2016|        250000000|\n",
      "|Harry Potter and ...|   7/15/2009|        250000000|\n",
      "|The Hobbit: The D...|  12/12/2013|        250000000|\n",
      "|The Hobbit: The B...|  12/10/2014|        250000000|\n",
      "+--------------------+------------+-----------------+\n",
      "only showing top 20 rows\n",
      "\n"
     ]
    }
   ],
   "source": [
    "# Fetch the column names from the dataframe \n",
    "df1.select(\"Movie Title\").show()\n",
    "\n",
    "# You can use ',' for more than one columns\n",
    "df1.select(\"Release Date\",\"Production Budget\").show()\n",
    "\n",
    "# or you can write like below\n",
    "df1.select([\"Movie Title\",\"Release Date\",\"Production Budget\"]).show()"
   ]
  },
  {
   "cell_type": "code",
   "execution_count": 34,
   "id": "d14635b1",
   "metadata": {},
   "outputs": [
    {
     "data": {
      "text/plain": [
       "[('Release Date', 'string'),\n",
       " ('Movie Title', 'string'),\n",
       " ('Production Budget', 'int'),\n",
       " ('Domestic Gross', 'int'),\n",
       " ('Worldwide Gross', 'bigint')]"
      ]
     },
     "execution_count": 34,
     "metadata": {},
     "output_type": "execute_result"
    }
   ],
   "source": [
    "# Check Datatypes\n",
    "df1.dtypes"
   ]
  },
  {
   "cell_type": "code",
   "execution_count": 35,
   "id": "14b3bfcb",
   "metadata": {},
   "outputs": [
    {
     "name": "stdout",
     "output_type": "stream",
     "text": [
      "+-------+------------+-------------------+--------------------+-------------------+-------------------+\n",
      "|summary|Release Date|        Movie Title|   Production Budget|     Domestic Gross|    Worldwide Gross|\n",
      "+-------+------------+-------------------+--------------------+-------------------+-------------------+\n",
      "|  count|        3979|               4000|                4000|               4000|               4000|\n",
      "|   mean|        null|  1032.909090909091|    4.693966688675E7|   5.896280106275E7|    1.33327273368E8|\n",
      "| stddev|        null|  928.2740386917491|4.5202281986870565E7|7.898698033346803E7|2.101515489005335E8|\n",
      "|    min|    1/1/1970|10 Cloverfield Lane|             9500000|                  0|                  0|\n",
      "|    max|    9/9/2016|     長江七號 (CJ7)|           400000000|          936662225|         2845899541|\n",
      "+-------+------------+-------------------+--------------------+-------------------+-------------------+\n",
      "\n"
     ]
    }
   ],
   "source": [
    "# Get describe\n",
    "df1.describe().show()"
   ]
  },
  {
   "cell_type": "code",
   "execution_count": 36,
   "id": "08085f96",
   "metadata": {},
   "outputs": [],
   "source": [
    "# How to add the column in dataframe\n",
    "df1= df1.withColumn(\"Movie Revenue %\",df1[\"Worldwide Gross\"]/df1[\"Production Budget\"]*100)"
   ]
  },
  {
   "cell_type": "code",
   "execution_count": 37,
   "id": "2ca6dfa0",
   "metadata": {},
   "outputs": [
    {
     "name": "stdout",
     "output_type": "stream",
     "text": [
      "+------------+--------------------+-----------------+--------------+---------------+------------------+\n",
      "|Release Date|         Movie Title|Production Budget|Domestic Gross|Worldwide Gross|   Movie Revenue %|\n",
      "+------------+--------------------+-----------------+--------------+---------------+------------------+\n",
      "|   4/23/2019|   Avengers: Endgame|        400000000|     858373000|     2797800564|        699.450141|\n",
      "|   5/20/2011|Pirates of the Ca...|        379000000|     241071802|     1045713802| 275.9139319261214|\n",
      "|   4/22/2015|Avengers: Age of ...|        365000000|     459005868|     1395316979|382.27862438356163|\n",
      "|  12/16/2015|Star Wars Ep. VII...|        306000000|     936662225|     2064615817| 674.7110513071896|\n",
      "|   4/25/2018|Avengers: Infinit...|        300000000|     678815482|     2044540523| 681.5135076666667|\n",
      "|   5/24/2007|Pirates of the Ca...|        300000000|     309420425|      960996492|        320.332164|\n",
      "|  11/13/2017|      Justice League|        300000000|     229024295|      655945209|        218.648403|\n",
      "|   10/6/2015|             Spectre|        300000000|     200074175|      879500760|         293.16692|\n",
      "|  12/18/2019|Star Wars: The Ri...|        275000000|     515202542|     1072848487| 390.1267225454545|\n",
      "|   5/23/2018|Solo: A Star Wars...|        275000000|     213767512|      393151347| 142.9641261818182|\n",
      "|    3/7/2012|         John Carter|        263700000|      73058679|      282778100| 107.2347743648085|\n",
      "|   3/23/2016|Batman v Superman...|        263000000|     330360194|      872395091| 331.7091600760456|\n",
      "|  12/13/2017|Star Wars Ep. VII...|        262000000|     620181382|     1331635141|508.25768740458017|\n",
      "|   7/11/2019|       The Lion King|        260000000|     543638043|     1654367425| 636.2951634615386|\n",
      "|  11/24/2010|             Tangled|        260000000|     200821936|      584899819|224.96146884615388|\n",
      "|    5/4/2007|        Spider-Man 3|        258000000|     336530303|      894860230| 346.8450503875969|\n",
      "|   4/22/2016|Captain America: ...|        250000000|     408084349|     1151918521|       460.7674084|\n",
      "|   7/15/2009|Harry Potter and ...|        250000000|     302089278|      929411069|371.76442760000003|\n",
      "|  12/12/2013|The Hobbit: The D...|        250000000|     258241522|      959358436|       383.7433744|\n",
      "|  12/10/2014|The Hobbit: The B...|        250000000|     255119788|      940389558|       376.1558232|\n",
      "+------------+--------------------+-----------------+--------------+---------------+------------------+\n",
      "only showing top 20 rows\n",
      "\n"
     ]
    }
   ],
   "source": [
    "df1.show()"
   ]
  },
  {
   "cell_type": "code",
   "execution_count": 38,
   "id": "eb1d062f",
   "metadata": {},
   "outputs": [],
   "source": [
    "# Rename the existing column name \n",
    "df1=df1.withColumnRenamed(\"Movie Revenue %\",\"Revenue % wise-growth\")\n"
   ]
  },
  {
   "cell_type": "code",
   "execution_count": 39,
   "id": "6dd4669e",
   "metadata": {},
   "outputs": [
    {
     "name": "stdout",
     "output_type": "stream",
     "text": [
      "+------------+--------------------+-----------------+--------------+---------------+---------------------+\n",
      "|Release Date|         Movie Title|Production Budget|Domestic Gross|Worldwide Gross|Revenue % wise-growth|\n",
      "+------------+--------------------+-----------------+--------------+---------------+---------------------+\n",
      "|   4/23/2019|   Avengers: Endgame|        400000000|     858373000|     2797800564|           699.450141|\n",
      "|   5/20/2011|Pirates of the Ca...|        379000000|     241071802|     1045713802|    275.9139319261214|\n",
      "|   4/22/2015|Avengers: Age of ...|        365000000|     459005868|     1395316979|   382.27862438356163|\n",
      "|  12/16/2015|Star Wars Ep. VII...|        306000000|     936662225|     2064615817|    674.7110513071896|\n",
      "|   4/25/2018|Avengers: Infinit...|        300000000|     678815482|     2044540523|    681.5135076666667|\n",
      "|   5/24/2007|Pirates of the Ca...|        300000000|     309420425|      960996492|           320.332164|\n",
      "|  11/13/2017|      Justice League|        300000000|     229024295|      655945209|           218.648403|\n",
      "|   10/6/2015|             Spectre|        300000000|     200074175|      879500760|            293.16692|\n",
      "|  12/18/2019|Star Wars: The Ri...|        275000000|     515202542|     1072848487|    390.1267225454545|\n",
      "|   5/23/2018|Solo: A Star Wars...|        275000000|     213767512|      393151347|    142.9641261818182|\n",
      "|    3/7/2012|         John Carter|        263700000|      73058679|      282778100|    107.2347743648085|\n",
      "|   3/23/2016|Batman v Superman...|        263000000|     330360194|      872395091|    331.7091600760456|\n",
      "|  12/13/2017|Star Wars Ep. VII...|        262000000|     620181382|     1331635141|   508.25768740458017|\n",
      "|   7/11/2019|       The Lion King|        260000000|     543638043|     1654367425|    636.2951634615386|\n",
      "|  11/24/2010|             Tangled|        260000000|     200821936|      584899819|   224.96146884615388|\n",
      "|    5/4/2007|        Spider-Man 3|        258000000|     336530303|      894860230|    346.8450503875969|\n",
      "|   4/22/2016|Captain America: ...|        250000000|     408084349|     1151918521|          460.7674084|\n",
      "|   7/15/2009|Harry Potter and ...|        250000000|     302089278|      929411069|   371.76442760000003|\n",
      "|  12/12/2013|The Hobbit: The D...|        250000000|     258241522|      959358436|          383.7433744|\n",
      "|  12/10/2014|The Hobbit: The B...|        250000000|     255119788|      940389558|          376.1558232|\n",
      "+------------+--------------------+-----------------+--------------+---------------+---------------------+\n",
      "only showing top 20 rows\n",
      "\n"
     ]
    }
   ],
   "source": [
    "df1.show()"
   ]
  },
  {
   "cell_type": "code",
   "execution_count": 40,
   "id": "23801516",
   "metadata": {},
   "outputs": [],
   "source": [
    "#Drop the column from DataFrame\n",
    "df1= df1.drop(\"Revenue % wise-growth\")"
   ]
  },
  {
   "cell_type": "code",
   "execution_count": 41,
   "id": "34867c6c",
   "metadata": {},
   "outputs": [
    {
     "name": "stdout",
     "output_type": "stream",
     "text": [
      "+------------+--------------------+-----------------+--------------+---------------+\n",
      "|Release Date|         Movie Title|Production Budget|Domestic Gross|Worldwide Gross|\n",
      "+------------+--------------------+-----------------+--------------+---------------+\n",
      "|   4/23/2019|   Avengers: Endgame|        400000000|     858373000|     2797800564|\n",
      "|   5/20/2011|Pirates of the Ca...|        379000000|     241071802|     1045713802|\n",
      "|   4/22/2015|Avengers: Age of ...|        365000000|     459005868|     1395316979|\n",
      "|  12/16/2015|Star Wars Ep. VII...|        306000000|     936662225|     2064615817|\n",
      "|   4/25/2018|Avengers: Infinit...|        300000000|     678815482|     2044540523|\n",
      "|   5/24/2007|Pirates of the Ca...|        300000000|     309420425|      960996492|\n",
      "|  11/13/2017|      Justice League|        300000000|     229024295|      655945209|\n",
      "|   10/6/2015|             Spectre|        300000000|     200074175|      879500760|\n",
      "|  12/18/2019|Star Wars: The Ri...|        275000000|     515202542|     1072848487|\n",
      "|   5/23/2018|Solo: A Star Wars...|        275000000|     213767512|      393151347|\n",
      "|    3/7/2012|         John Carter|        263700000|      73058679|      282778100|\n",
      "|   3/23/2016|Batman v Superman...|        263000000|     330360194|      872395091|\n",
      "|  12/13/2017|Star Wars Ep. VII...|        262000000|     620181382|     1331635141|\n",
      "|   7/11/2019|       The Lion King|        260000000|     543638043|     1654367425|\n",
      "|  11/24/2010|             Tangled|        260000000|     200821936|      584899819|\n",
      "|    5/4/2007|        Spider-Man 3|        258000000|     336530303|      894860230|\n",
      "|   4/22/2016|Captain America: ...|        250000000|     408084349|     1151918521|\n",
      "|   7/15/2009|Harry Potter and ...|        250000000|     302089278|      929411069|\n",
      "|  12/12/2013|The Hobbit: The D...|        250000000|     258241522|      959358436|\n",
      "|  12/10/2014|The Hobbit: The B...|        250000000|     255119788|      940389558|\n",
      "+------------+--------------------+-----------------+--------------+---------------+\n",
      "only showing top 20 rows\n",
      "\n"
     ]
    }
   ],
   "source": [
    "df1.show()"
   ]
  },
  {
   "cell_type": "code",
   "execution_count": 42,
   "id": "923c4a65",
   "metadata": {},
   "outputs": [
    {
     "name": "stdout",
     "output_type": "stream",
     "text": [
      "+------------+--------------------+-----------------+--------------+---------------+\n",
      "|Release Date|          Movie Name|Production Budget|Domestic Gross|Worldwide Gross|\n",
      "+------------+--------------------+-----------------+--------------+---------------+\n",
      "|   4/23/2019|   Avengers: Endgame|        400000000|     858373000|     2797800564|\n",
      "|   5/20/2011|Pirates of the Ca...|        379000000|     241071802|     1045713802|\n",
      "|   4/22/2015|Avengers: Age of ...|        365000000|     459005868|     1395316979|\n",
      "|  12/16/2015|Star Wars Ep. VII...|        306000000|     936662225|     2064615817|\n",
      "|   4/25/2018|Avengers: Infinit...|        300000000|     678815482|     2044540523|\n",
      "|   5/24/2007|Pirates of the Ca...|        300000000|     309420425|      960996492|\n",
      "|  11/13/2017|      Justice League|        300000000|     229024295|      655945209|\n",
      "|   10/6/2015|             Spectre|        300000000|     200074175|      879500760|\n",
      "|  12/18/2019|Star Wars: The Ri...|        275000000|     515202542|     1072848487|\n",
      "|   5/23/2018|Solo: A Star Wars...|        275000000|     213767512|      393151347|\n",
      "|    3/7/2012|         John Carter|        263700000|      73058679|      282778100|\n",
      "|   3/23/2016|Batman v Superman...|        263000000|     330360194|      872395091|\n",
      "|  12/13/2017|Star Wars Ep. VII...|        262000000|     620181382|     1331635141|\n",
      "|   7/11/2019|       The Lion King|        260000000|     543638043|     1654367425|\n",
      "|  11/24/2010|             Tangled|        260000000|     200821936|      584899819|\n",
      "|    5/4/2007|        Spider-Man 3|        258000000|     336530303|      894860230|\n",
      "|   4/22/2016|Captain America: ...|        250000000|     408084349|     1151918521|\n",
      "|   7/15/2009|Harry Potter and ...|        250000000|     302089278|      929411069|\n",
      "|  12/12/2013|The Hobbit: The D...|        250000000|     258241522|      959358436|\n",
      "|  12/10/2014|The Hobbit: The B...|        250000000|     255119788|      940389558|\n",
      "+------------+--------------------+-----------------+--------------+---------------+\n",
      "only showing top 20 rows\n",
      "\n"
     ]
    }
   ],
   "source": [
    "#Rename the column\n",
    "df1 = df1.withColumnRenamed(\"Movie Title\",\"Movie Name\")\n",
    "df1.show()"
   ]
  },
  {
   "cell_type": "code",
   "execution_count": 43,
   "id": "ee931e6f",
   "metadata": {},
   "outputs": [
    {
     "name": "stdout",
     "output_type": "stream",
     "text": [
      "+------------+--------------------+-----------------+--------------+---------------+\n",
      "|Release Date|          Movie Name|Production Budget|Domestic Gross|Worldwide Gross|\n",
      "+------------+--------------------+-----------------+--------------+---------------+\n",
      "|   4/23/2019|   Avengers: Endgame|        400000000|     858373000|     2797800564|\n",
      "|   5/20/2011|Pirates of the Ca...|        379000000|     241071802|     1045713802|\n",
      "|   4/22/2015|Avengers: Age of ...|        365000000|     459005868|     1395316979|\n",
      "|  12/16/2015|Star Wars Ep. VII...|        306000000|     936662225|     2064615817|\n",
      "|   4/25/2018|Avengers: Infinit...|        300000000|     678815482|     2044540523|\n",
      "|   5/24/2007|Pirates of the Ca...|        300000000|     309420425|      960996492|\n",
      "|  11/13/2017|      Justice League|        300000000|     229024295|      655945209|\n",
      "|   10/6/2015|             Spectre|        300000000|     200074175|      879500760|\n",
      "|  12/18/2019|Star Wars: The Ri...|        275000000|     515202542|     1072848487|\n",
      "|   5/23/2018|Solo: A Star Wars...|        275000000|     213767512|      393151347|\n",
      "|    3/7/2012|         John Carter|        263700000|      73058679|      282778100|\n",
      "|   3/23/2016|Batman v Superman...|        263000000|     330360194|      872395091|\n",
      "|  12/13/2017|Star Wars Ep. VII...|        262000000|     620181382|     1331635141|\n",
      "|   7/11/2019|       The Lion King|        260000000|     543638043|     1654367425|\n",
      "|  11/24/2010|             Tangled|        260000000|     200821936|      584899819|\n",
      "|    5/4/2007|        Spider-Man 3|        258000000|     336530303|      894860230|\n",
      "|   4/22/2016|Captain America: ...|        250000000|     408084349|     1151918521|\n",
      "|   7/15/2009|Harry Potter and ...|        250000000|     302089278|      929411069|\n",
      "|  12/12/2013|The Hobbit: The D...|        250000000|     258241522|      959358436|\n",
      "|  12/10/2014|The Hobbit: The B...|        250000000|     255119788|      940389558|\n",
      "+------------+--------------------+-----------------+--------------+---------------+\n",
      "only showing top 20 rows\n",
      "\n"
     ]
    }
   ],
   "source": [
    "# Drop the Row with respect to Nan value\n",
    "df1.na.drop().show()"
   ]
  },
  {
   "cell_type": "code",
   "execution_count": 44,
   "id": "3ca61423",
   "metadata": {},
   "outputs": [
    {
     "name": "stdout",
     "output_type": "stream",
     "text": [
      "root\n",
      " |-- Release Date: string (nullable = true)\n",
      " |-- Movie Name: string (nullable = true)\n",
      " |-- Production Budget: integer (nullable = true)\n",
      " |-- Domestic Gross: integer (nullable = true)\n",
      " |-- Worldwide Gross: long (nullable = true)\n",
      "\n"
     ]
    }
   ],
   "source": [
    "df1.printSchema()"
   ]
  },
  {
   "cell_type": "code",
   "execution_count": 45,
   "id": "bf2afdd9",
   "metadata": {},
   "outputs": [
    {
     "name": "stdout",
     "output_type": "stream",
     "text": [
      "+------------+--------------------+-----------------+--------------+---------------+\n",
      "|Release Date|          Movie Name|Production Budget|Domestic Gross|Worldwide Gross|\n",
      "+------------+--------------------+-----------------+--------------+---------------+\n",
      "|   4/23/2019|   Avengers: Endgame|        400000000|     858373000|     2797800564|\n",
      "|   5/20/2011|Pirates of the Ca...|        379000000|     241071802|     1045713802|\n",
      "|   4/22/2015|Avengers: Age of ...|        365000000|     459005868|     1395316979|\n",
      "|  12/16/2015|Star Wars Ep. VII...|        306000000|     936662225|     2064615817|\n",
      "|   4/25/2018|Avengers: Infinit...|        300000000|     678815482|     2044540523|\n",
      "|   5/24/2007|Pirates of the Ca...|        300000000|     309420425|      960996492|\n",
      "|  11/13/2017|      Justice League|        300000000|     229024295|      655945209|\n",
      "|   10/6/2015|             Spectre|        300000000|     200074175|      879500760|\n",
      "|  12/18/2019|Star Wars: The Ri...|        275000000|     515202542|     1072848487|\n",
      "|   5/23/2018|Solo: A Star Wars...|        275000000|     213767512|      393151347|\n",
      "|    3/7/2012|         John Carter|        263700000|      73058679|      282778100|\n",
      "|   3/23/2016|Batman v Superman...|        263000000|     330360194|      872395091|\n",
      "|  12/13/2017|Star Wars Ep. VII...|        262000000|     620181382|     1331635141|\n",
      "|   7/11/2019|       The Lion King|        260000000|     543638043|     1654367425|\n",
      "|  11/24/2010|             Tangled|        260000000|     200821936|      584899819|\n",
      "|    5/4/2007|        Spider-Man 3|        258000000|     336530303|      894860230|\n",
      "|   4/22/2016|Captain America: ...|        250000000|     408084349|     1151918521|\n",
      "|   7/15/2009|Harry Potter and ...|        250000000|     302089278|      929411069|\n",
      "|  12/12/2013|The Hobbit: The D...|        250000000|     258241522|      959358436|\n",
      "|  12/10/2014|The Hobbit: The B...|        250000000|     255119788|      940389558|\n",
      "+------------+--------------------+-----------------+--------------+---------------+\n",
      "only showing top 20 rows\n",
      "\n"
     ]
    }
   ],
   "source": [
    "# Drop using  \"any\" keyword\n",
    "df1.na.drop(how=\"any\").show()"
   ]
  },
  {
   "cell_type": "code",
   "execution_count": 47,
   "id": "65731fa4",
   "metadata": {},
   "outputs": [
    {
     "name": "stdout",
     "output_type": "stream",
     "text": [
      "+------------+--------------------+-----------------+--------------+---------------+\n",
      "|Release Date|          Movie Name|Production Budget|Domestic Gross|Worldwide Gross|\n",
      "+------------+--------------------+-----------------+--------------+---------------+\n",
      "|   4/23/2019|   Avengers: Endgame|        400000000|     858373000|     2797800564|\n",
      "|   5/20/2011|Pirates of the Ca...|        379000000|     241071802|     1045713802|\n",
      "|   4/22/2015|Avengers: Age of ...|        365000000|     459005868|     1395316979|\n",
      "|  12/16/2015|Star Wars Ep. VII...|        306000000|     936662225|     2064615817|\n",
      "|   4/25/2018|Avengers: Infinit...|        300000000|     678815482|     2044540523|\n",
      "|   5/24/2007|Pirates of the Ca...|        300000000|     309420425|      960996492|\n",
      "|  11/13/2017|      Justice League|        300000000|     229024295|      655945209|\n",
      "|   10/6/2015|             Spectre|        300000000|     200074175|      879500760|\n",
      "|  12/18/2019|Star Wars: The Ri...|        275000000|     515202542|     1072848487|\n",
      "|   5/23/2018|Solo: A Star Wars...|        275000000|     213767512|      393151347|\n",
      "|    3/7/2012|         John Carter|        263700000|      73058679|      282778100|\n",
      "|   3/23/2016|Batman v Superman...|        263000000|     330360194|      872395091|\n",
      "|  12/13/2017|Star Wars Ep. VII...|        262000000|     620181382|     1331635141|\n",
      "|   7/11/2019|       The Lion King|        260000000|     543638043|     1654367425|\n",
      "|  11/24/2010|             Tangled|        260000000|     200821936|      584899819|\n",
      "|    5/4/2007|        Spider-Man 3|        258000000|     336530303|      894860230|\n",
      "|   4/22/2016|Captain America: ...|        250000000|     408084349|     1151918521|\n",
      "|   7/15/2009|Harry Potter and ...|        250000000|     302089278|      929411069|\n",
      "|  12/12/2013|The Hobbit: The D...|        250000000|     258241522|      959358436|\n",
      "|  12/10/2014|The Hobbit: The B...|        250000000|     255119788|      940389558|\n",
      "+------------+--------------------+-----------------+--------------+---------------+\n",
      "only showing top 20 rows\n",
      "\n"
     ]
    }
   ],
   "source": [
    "# Drop using threshold # thresh = 3 means atleast 3 non nan values are present in row, else entire row will be dropped\n",
    "df1.na.drop(how='any',thresh=3).show()"
   ]
  },
  {
   "cell_type": "code",
   "execution_count": 48,
   "id": "d44b22b1",
   "metadata": {},
   "outputs": [
    {
     "name": "stdout",
     "output_type": "stream",
     "text": [
      "+------------+--------------------+-----------------+--------------+---------------+\n",
      "|Release Date|          Movie Name|Production Budget|Domestic Gross|Worldwide Gross|\n",
      "+------------+--------------------+-----------------+--------------+---------------+\n",
      "|   4/23/2019|   Avengers: Endgame|        400000000|     858373000|     2797800564|\n",
      "|   5/20/2011|Pirates of the Ca...|        379000000|     241071802|     1045713802|\n",
      "|   4/22/2015|Avengers: Age of ...|        365000000|     459005868|     1395316979|\n",
      "|  12/16/2015|Star Wars Ep. VII...|        306000000|     936662225|     2064615817|\n",
      "|   4/25/2018|Avengers: Infinit...|        300000000|     678815482|     2044540523|\n",
      "|   5/24/2007|Pirates of the Ca...|        300000000|     309420425|      960996492|\n",
      "|  11/13/2017|      Justice League|        300000000|     229024295|      655945209|\n",
      "|   10/6/2015|             Spectre|        300000000|     200074175|      879500760|\n",
      "|  12/18/2019|Star Wars: The Ri...|        275000000|     515202542|     1072848487|\n",
      "|   5/23/2018|Solo: A Star Wars...|        275000000|     213767512|      393151347|\n",
      "|    3/7/2012|         John Carter|        263700000|      73058679|      282778100|\n",
      "|   3/23/2016|Batman v Superman...|        263000000|     330360194|      872395091|\n",
      "|  12/13/2017|Star Wars Ep. VII...|        262000000|     620181382|     1331635141|\n",
      "|   7/11/2019|       The Lion King|        260000000|     543638043|     1654367425|\n",
      "|  11/24/2010|             Tangled|        260000000|     200821936|      584899819|\n",
      "|    5/4/2007|        Spider-Man 3|        258000000|     336530303|      894860230|\n",
      "|   4/22/2016|Captain America: ...|        250000000|     408084349|     1151918521|\n",
      "|   7/15/2009|Harry Potter and ...|        250000000|     302089278|      929411069|\n",
      "|  12/12/2013|The Hobbit: The D...|        250000000|     258241522|      959358436|\n",
      "|  12/10/2014|The Hobbit: The B...|        250000000|     255119788|      940389558|\n",
      "+------------+--------------------+-----------------+--------------+---------------+\n",
      "only showing top 20 rows\n",
      "\n"
     ]
    }
   ],
   "source": [
    "# Drop nan values only on specific column , using Subset\n",
    "df1.na.drop(how='any',subset=[\"Movie Name\"]).show()\n"
   ]
  },
  {
   "cell_type": "code",
   "execution_count": 49,
   "id": "8cfea8b1",
   "metadata": {},
   "outputs": [
    {
     "name": "stdout",
     "output_type": "stream",
     "text": [
      "+------------+--------------------+-----------------+--------------+---------------+\n",
      "|Release Date|          Movie Name|Production Budget|Domestic Gross|Worldwide Gross|\n",
      "+------------+--------------------+-----------------+--------------+---------------+\n",
      "|   4/23/2019|   Avengers: Endgame|        400000000|     858373000|     2797800564|\n",
      "|   5/20/2011|Pirates of the Ca...|        379000000|     241071802|     1045713802|\n",
      "|   4/22/2015|Avengers: Age of ...|        365000000|     459005868|     1395316979|\n",
      "|  12/16/2015|Star Wars Ep. VII...|        306000000|     936662225|     2064615817|\n",
      "|   4/25/2018|Avengers: Infinit...|        300000000|     678815482|     2044540523|\n",
      "|   5/24/2007|Pirates of the Ca...|        300000000|     309420425|      960996492|\n",
      "|  11/13/2017|      Justice League|        300000000|     229024295|      655945209|\n",
      "|   10/6/2015|             Spectre|        300000000|     200074175|      879500760|\n",
      "|  12/18/2019|Star Wars: The Ri...|        275000000|     515202542|     1072848487|\n",
      "|   5/23/2018|Solo: A Star Wars...|        275000000|     213767512|      393151347|\n",
      "|    3/7/2012|         John Carter|        263700000|      73058679|      282778100|\n",
      "|   3/23/2016|Batman v Superman...|        263000000|     330360194|      872395091|\n",
      "|  12/13/2017|Star Wars Ep. VII...|        262000000|     620181382|     1331635141|\n",
      "|   7/11/2019|       The Lion King|        260000000|     543638043|     1654367425|\n",
      "|  11/24/2010|             Tangled|        260000000|     200821936|      584899819|\n",
      "|    5/4/2007|        Spider-Man 3|        258000000|     336530303|      894860230|\n",
      "|   4/22/2016|Captain America: ...|        250000000|     408084349|     1151918521|\n",
      "|   7/15/2009|Harry Potter and ...|        250000000|     302089278|      929411069|\n",
      "|  12/12/2013|The Hobbit: The D...|        250000000|     258241522|      959358436|\n",
      "|  12/10/2014|The Hobbit: The B...|        250000000|     255119788|      940389558|\n",
      "+------------+--------------------+-----------------+--------------+---------------+\n",
      "only showing top 20 rows\n",
      "\n"
     ]
    }
   ],
   "source": [
    "#Filling the missing values\n",
    "df1.na.fill(\"Missing values\").show() #Where the Nan values are present in coloumn, \"Missing values\" will be replaced with that.\n",
    "\n"
   ]
  },
  {
   "cell_type": "code",
   "execution_count": 51,
   "id": "940da70a",
   "metadata": {},
   "outputs": [
    {
     "name": "stdout",
     "output_type": "stream",
     "text": [
      "+------------+--------------------+-----------------+--------------+---------------+\n",
      "|Release Date|          Movie Name|Production Budget|Domestic Gross|Worldwide Gross|\n",
      "+------------+--------------------+-----------------+--------------+---------------+\n",
      "|   4/23/2019|   Avengers: Endgame|        400000000|     858373000|     2797800564|\n",
      "|   5/20/2011|Pirates of the Ca...|        379000000|     241071802|     1045713802|\n",
      "|   4/22/2015|Avengers: Age of ...|        365000000|     459005868|     1395316979|\n",
      "|  12/16/2015|Star Wars Ep. VII...|        306000000|     936662225|     2064615817|\n",
      "|   4/25/2018|Avengers: Infinit...|        300000000|     678815482|     2044540523|\n",
      "|   5/24/2007|Pirates of the Ca...|        300000000|     309420425|      960996492|\n",
      "|  11/13/2017|      Justice League|        300000000|     229024295|      655945209|\n",
      "|   10/6/2015|             Spectre|        300000000|     200074175|      879500760|\n",
      "|  12/18/2019|Star Wars: The Ri...|        275000000|     515202542|     1072848487|\n",
      "|   5/23/2018|Solo: A Star Wars...|        275000000|     213767512|      393151347|\n",
      "|    3/7/2012|         John Carter|        263700000|      73058679|      282778100|\n",
      "|   3/23/2016|Batman v Superman...|        263000000|     330360194|      872395091|\n",
      "|  12/13/2017|Star Wars Ep. VII...|        262000000|     620181382|     1331635141|\n",
      "|   7/11/2019|       The Lion King|        260000000|     543638043|     1654367425|\n",
      "|  11/24/2010|             Tangled|        260000000|     200821936|      584899819|\n",
      "|    5/4/2007|        Spider-Man 3|        258000000|     336530303|      894860230|\n",
      "|   4/22/2016|Captain America: ...|        250000000|     408084349|     1151918521|\n",
      "|   7/15/2009|Harry Potter and ...|        250000000|     302089278|      929411069|\n",
      "|  12/12/2013|The Hobbit: The D...|        250000000|     258241522|      959358436|\n",
      "|  12/10/2014|The Hobbit: The B...|        250000000|     255119788|      940389558|\n",
      "+------------+--------------------+-----------------+--------------+---------------+\n",
      "only showing top 20 rows\n",
      "\n"
     ]
    }
   ],
   "source": [
    "#Filling the missing values for perticuler column\n",
    "# Where the Nan Values are present it will replaced with \"Missing Value\" word on particular column, you can give any values\n",
    "df1.na.fill(\"missing values\",\"Movie Name\").show()  \n"
   ]
  },
  {
   "cell_type": "code",
   "execution_count": 52,
   "id": "cd4ef29d",
   "metadata": {},
   "outputs": [
    {
     "name": "stdout",
     "output_type": "stream",
     "text": [
      "+------------+--------------------+-----------------+--------------+---------------+\n",
      "|Release Date|          Movie Name|Production Budget|Domestic Gross|Worldwide Gross|\n",
      "+------------+--------------------+-----------------+--------------+---------------+\n",
      "|   4/23/2019|   Avengers: Endgame|        400000000|     858373000|     2797800564|\n",
      "|   5/20/2011|Pirates of the Ca...|        379000000|     241071802|     1045713802|\n",
      "|   4/22/2015|Avengers: Age of ...|        365000000|     459005868|     1395316979|\n",
      "|  12/16/2015|Star Wars Ep. VII...|        306000000|     936662225|     2064615817|\n",
      "|   4/25/2018|Avengers: Infinit...|        300000000|     678815482|     2044540523|\n",
      "|   5/24/2007|Pirates of the Ca...|        300000000|     309420425|      960996492|\n",
      "|  11/13/2017|      Justice League|        300000000|     229024295|      655945209|\n",
      "|   10/6/2015|             Spectre|        300000000|     200074175|      879500760|\n",
      "|  12/18/2019|Star Wars: The Ri...|        275000000|     515202542|     1072848487|\n",
      "|   5/23/2018|Solo: A Star Wars...|        275000000|     213767512|      393151347|\n",
      "|    3/7/2012|         John Carter|        263700000|      73058679|      282778100|\n",
      "|   3/23/2016|Batman v Superman...|        263000000|     330360194|      872395091|\n",
      "|  12/13/2017|Star Wars Ep. VII...|        262000000|     620181382|     1331635141|\n",
      "|   7/11/2019|       The Lion King|        260000000|     543638043|     1654367425|\n",
      "|  11/24/2010|             Tangled|        260000000|     200821936|      584899819|\n",
      "|    5/4/2007|        Spider-Man 3|        258000000|     336530303|      894860230|\n",
      "|   4/22/2016|Captain America: ...|        250000000|     408084349|     1151918521|\n",
      "|   7/15/2009|Harry Potter and ...|        250000000|     302089278|      929411069|\n",
      "|  12/12/2013|The Hobbit: The D...|        250000000|     258241522|      959358436|\n",
      "|  12/10/2014|The Hobbit: The B...|        250000000|     255119788|      940389558|\n",
      "+------------+--------------------+-----------------+--------------+---------------+\n",
      "only showing top 20 rows\n",
      "\n"
     ]
    }
   ],
   "source": [
    "#Fill in multiple columns\n",
    " # Where the Nan Values are present it will replaced with \"Missing Value\" word on particular columns\n",
    "df1.na.fill(\"Missing Value\", [\"Movie Name\",\"Release Date\"]).show()\n"
   ]
  },
  {
   "cell_type": "code",
   "execution_count": 56,
   "id": "0c8728e9",
   "metadata": {},
   "outputs": [
    {
     "name": "stdout",
     "output_type": "stream",
     "text": [
      "+------------+--------------------+-----------------+--------------+---------------+-------------------------+----------------------+\n",
      "|Release Date|          Movie Name|Production Budget|Domestic Gross|Worldwide Gross|Production Budget_inputed|Domestic Gross_inputed|\n",
      "+------------+--------------------+-----------------+--------------+---------------+-------------------------+----------------------+\n",
      "|   4/23/2019|   Avengers: Endgame|        400000000|     858373000|     2797800564|                400000000|             858373000|\n",
      "|   5/20/2011|Pirates of the Ca...|        379000000|     241071802|     1045713802|                379000000|             241071802|\n",
      "|   4/22/2015|Avengers: Age of ...|        365000000|     459005868|     1395316979|                365000000|             459005868|\n",
      "|  12/16/2015|Star Wars Ep. VII...|        306000000|     936662225|     2064615817|                306000000|             936662225|\n",
      "|   4/25/2018|Avengers: Infinit...|        300000000|     678815482|     2044540523|                300000000|             678815482|\n",
      "|   5/24/2007|Pirates of the Ca...|        300000000|     309420425|      960996492|                300000000|             309420425|\n",
      "|  11/13/2017|      Justice League|        300000000|     229024295|      655945209|                300000000|             229024295|\n",
      "|   10/6/2015|             Spectre|        300000000|     200074175|      879500760|                300000000|             200074175|\n",
      "|  12/18/2019|Star Wars: The Ri...|        275000000|     515202542|     1072848487|                275000000|             515202542|\n",
      "|   5/23/2018|Solo: A Star Wars...|        275000000|     213767512|      393151347|                275000000|             213767512|\n",
      "|    3/7/2012|         John Carter|        263700000|      73058679|      282778100|                263700000|              73058679|\n",
      "|   3/23/2016|Batman v Superman...|        263000000|     330360194|      872395091|                263000000|             330360194|\n",
      "|  12/13/2017|Star Wars Ep. VII...|        262000000|     620181382|     1331635141|                262000000|             620181382|\n",
      "|   7/11/2019|       The Lion King|        260000000|     543638043|     1654367425|                260000000|             543638043|\n",
      "|  11/24/2010|             Tangled|        260000000|     200821936|      584899819|                260000000|             200821936|\n",
      "|    5/4/2007|        Spider-Man 3|        258000000|     336530303|      894860230|                258000000|             336530303|\n",
      "|   4/22/2016|Captain America: ...|        250000000|     408084349|     1151918521|                250000000|             408084349|\n",
      "|   7/15/2009|Harry Potter and ...|        250000000|     302089278|      929411069|                250000000|             302089278|\n",
      "|  12/12/2013|The Hobbit: The D...|        250000000|     258241522|      959358436|                250000000|             258241522|\n",
      "|  12/10/2014|The Hobbit: The B...|        250000000|     255119788|      940389558|                250000000|             255119788|\n",
      "+------------+--------------------+-----------------+--------------+---------------+-------------------------+----------------------+\n",
      "only showing top 20 rows\n",
      "\n"
     ]
    }
   ],
   "source": [
    "# Fill nan(null) Values with mean \n",
    "#Imputation estimator for completing missing values, using the mean, median or mode of the columns in which the missing values are located. \n",
    "from pyspark.ml.feature import Imputer\n",
    "\n",
    "imputer = Imputer(\n",
    "inputCols=[\"Production Budget\",\"Domestic Gross\"],\n",
    "outputCols=[\"{}_inputed\".format(c) for c in [\"Production Budget\",\"Domestic Gross\"]]\n",
    ").setStrategy(\"mean\") # Change the setStrategy with median and mode also\n",
    "imputer.fit(df1).transform(df1).show()"
   ]
  },
  {
   "cell_type": "code",
   "execution_count": null,
   "id": "d06b8cda",
   "metadata": {},
   "outputs": [],
   "source": []
  },
  {
   "cell_type": "code",
   "execution_count": null,
   "id": "c9d6aa99",
   "metadata": {},
   "outputs": [],
   "source": []
  }
 ],
 "metadata": {
  "kernelspec": {
   "display_name": "Python 3 (ipykernel)",
   "language": "python",
   "name": "python3"
  },
  "language_info": {
   "codemirror_mode": {
    "name": "ipython",
    "version": 3
   },
   "file_extension": ".py",
   "mimetype": "text/x-python",
   "name": "python",
   "nbconvert_exporter": "python",
   "pygments_lexer": "ipython3",
   "version": "3.9.12"
  }
 },
 "nbformat": 4,
 "nbformat_minor": 5
}
